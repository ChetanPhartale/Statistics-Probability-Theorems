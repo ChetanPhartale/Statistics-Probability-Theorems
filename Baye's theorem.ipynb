{
 "cells": [
  {
   "cell_type": "code",
   "execution_count": null,
   "id": "4609d41b",
   "metadata": {},
   "outputs": [],
   "source": [
    "# 1)\n",
    "# A man is known to speak the truth ¾ times. He draws a card and reports it is King .\n",
    "# Find the probability that it is actually a King.\n"
   ]
  },
  {
   "cell_type": "code",
   "execution_count": 1,
   "id": "37fd9b56",
   "metadata": {},
   "outputs": [
    {
     "name": "stdout",
     "output_type": "stream",
     "text": [
      "0.19999999999999998\n"
     ]
    }
   ],
   "source": [
    "a1=4/52\n",
    "a2=48/52\n",
    "\n",
    "b_a1 = 3/4\n",
    "b_a2 = 1/4\n",
    "\n",
    "x=a1*b_a1\n",
    "y=a2*b_a2\n",
    "\n",
    "final = x/(x+y)\n",
    "\n",
    "print(final)"
   ]
  }
 ],
 "metadata": {
  "kernelspec": {
   "display_name": "Python 3 (ipykernel)",
   "language": "python",
   "name": "python3"
  },
  "language_info": {
   "codemirror_mode": {
    "name": "ipython",
    "version": 3
   },
   "file_extension": ".py",
   "mimetype": "text/x-python",
   "name": "python",
   "nbconvert_exporter": "python",
   "pygments_lexer": "ipython3",
   "version": "3.9.12"
  }
 },
 "nbformat": 4,
 "nbformat_minor": 5
}
