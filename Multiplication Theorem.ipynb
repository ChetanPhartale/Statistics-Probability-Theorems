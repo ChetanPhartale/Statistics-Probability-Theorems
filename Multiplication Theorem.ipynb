{
 "cells": [
  {
   "cell_type": "code",
   "execution_count": null,
   "id": "4bd2f910",
   "metadata": {},
   "outputs": [],
   "source": [
    "# 1)\n",
    "# A bag contains 15 red and 5 blue balls.\n",
    "# without the replacement of the balls,two balls are drawn from a  bag one after the other.\n",
    "# what is the probability of picking both the balls as red?"
   ]
  },
  {
   "cell_type": "code",
   "execution_count": 1,
   "id": "4cd42086",
   "metadata": {},
   "outputs": [
    {
     "name": "stdout",
     "output_type": "stream",
     "text": [
      "0.5526315789473684\n"
     ]
    }
   ],
   "source": [
    "a = 15/20\n",
    "b = 14/19\n",
    "\n",
    "a_intersection_b = a * b\n",
    "\n",
    "print(a_intersection_b)"
   ]
  },
  {
   "cell_type": "code",
   "execution_count": null,
   "id": "f5b4897b",
   "metadata": {},
   "outputs": [],
   "source": [
    "# 2) \n",
    "# What is the probability of getting a 5 and then a 2 with the normal 6-sided die?"
   ]
  },
  {
   "cell_type": "code",
   "execution_count": 2,
   "id": "8270181e",
   "metadata": {},
   "outputs": [
    {
     "name": "stdout",
     "output_type": "stream",
     "text": [
      "0.027777777777777776\n"
     ]
    }
   ],
   "source": [
    "a = 1/6\n",
    "b = 1/6\n",
    "\n",
    "a_intersection_b = a * b\n",
    "\n",
    "print(a_intersection_b)"
   ]
  },
  {
   "cell_type": "code",
   "execution_count": null,
   "id": "c9cba1d6",
   "metadata": {},
   "outputs": [],
   "source": [
    "# 3)\n",
    "# Two cards are selected without replacing the first card from the deck. \n",
    "# Find the probability of selecting a king and then selecting a queen."
   ]
  },
  {
   "cell_type": "code",
   "execution_count": 3,
   "id": "8bbd7b44",
   "metadata": {},
   "outputs": [
    {
     "name": "stdout",
     "output_type": "stream",
     "text": [
      "0.006033182503770739\n"
     ]
    }
   ],
   "source": [
    "a = 4/52\n",
    "b = 4/51\n",
    "\n",
    "a_intersection_b = a * b\n",
    "\n",
    "print(a_intersection_b)"
   ]
  },
  {
   "cell_type": "code",
   "execution_count": null,
   "id": "c1d13173",
   "metadata": {},
   "outputs": [],
   "source": [
    "# 4)\n",
    "# Find the probability of drawing a diamond card in each of the two consecutive draws from a well shuffled pack of cards, \n",
    "# if the card drawn is not replaced after the first draw?"
   ]
  },
  {
   "cell_type": "code",
   "execution_count": 4,
   "id": "40bb79cf",
   "metadata": {},
   "outputs": [
    {
     "name": "stdout",
     "output_type": "stream",
     "text": [
      "0.058823529411764705\n"
     ]
    }
   ],
   "source": [
    "a = 13/52\n",
    "b = 12/51\n",
    "\n",
    "a_intersection_b = a * b\n",
    "\n",
    "print(a_intersection_b)"
   ]
  },
  {
   "cell_type": "code",
   "execution_count": null,
   "id": "4db59ae5",
   "metadata": {},
   "outputs": [],
   "source": [
    "# 5)\n",
    "# There are 19 tickets, numbered from 1 to 19. \n",
    "# A ticket is drawn and then another ticket is drawn without replacement. \n",
    "# Find the probability that both tickets will show even numbers.\n"
   ]
  },
  {
   "cell_type": "code",
   "execution_count": 5,
   "id": "52dc195e",
   "metadata": {},
   "outputs": [
    {
     "name": "stdout",
     "output_type": "stream",
     "text": [
      "0.21052631578947367\n"
     ]
    }
   ],
   "source": [
    "a = 9/19\n",
    "b = 8/18\n",
    "\n",
    "a_intersection_b = a * b\n",
    "\n",
    "print(a_intersection_b)"
   ]
  },
  {
   "cell_type": "code",
   "execution_count": null,
   "id": "1bd354e0",
   "metadata": {},
   "outputs": [],
   "source": [
    "# 6)\n",
    "# A bag contains 4 red balls, 3 white balls and 5 black balls. \n",
    "# Two balls are drawn one after the other with replacement. \n",
    "# Find the probability that first is red and the second is black."
   ]
  },
  {
   "cell_type": "code",
   "execution_count": 6,
   "id": "b4420135",
   "metadata": {},
   "outputs": [
    {
     "name": "stdout",
     "output_type": "stream",
     "text": [
      "0.1388888888888889\n"
     ]
    }
   ],
   "source": [
    "a = 4/12\n",
    "b = 5/12\n",
    "\n",
    "a_intersection_b = a * b\n",
    "\n",
    "print(a_intersection_b)"
   ]
  },
  {
   "cell_type": "code",
   "execution_count": null,
   "id": "7041725d",
   "metadata": {},
   "outputs": [],
   "source": [
    "# 7)\n",
    "# A bag contains 5 green and 7 red balls. \n",
    "# Two balls are drawn. Find the probability that one is green and the other is red."
   ]
  },
  {
   "cell_type": "code",
   "execution_count": 7,
   "id": "61b96af3",
   "metadata": {},
   "outputs": [
    {
     "name": "stdout",
     "output_type": "stream",
     "text": [
      "0.24305555555555558\n"
     ]
    }
   ],
   "source": [
    "a = 5/12\n",
    "b = 7/12\n",
    "\n",
    "a_intersection_b = a * b\n",
    "\n",
    "print(a_intersection_b)"
   ]
  },
  {
   "cell_type": "code",
   "execution_count": null,
   "id": "edb7e0f7",
   "metadata": {},
   "outputs": [],
   "source": [
    "# 8)\n",
    "# It is 8:5 against the wife who is 40 years old living till she is 70 and 4:3 against her husband now 50 living till he is 80. Find the probability that \n",
    "# (i) Both will be alive,\n",
    "# (ii) None will be alive,\n",
    "# (iii) Only wife will be alive,\n",
    "# (iv) Only husband will be alive\n"
   ]
  },
  {
   "cell_type": "code",
   "execution_count": null,
   "id": "882c8aca",
   "metadata": {},
   "outputs": [],
   "source": []
  },
  {
   "cell_type": "code",
   "execution_count": null,
   "id": "9d3b4841",
   "metadata": {},
   "outputs": [],
   "source": [
    "# 9)\n",
    "# A bag contains 6 black marbles and 4 blue marbles. \n",
    "# Two marbles are drawn from the bag, without replacement. \n",
    "# What is the probability that both marbles are blue?"
   ]
  },
  {
   "cell_type": "code",
   "execution_count": 8,
   "id": "78733748",
   "metadata": {},
   "outputs": [
    {
     "name": "stdout",
     "output_type": "stream",
     "text": [
      "0.13333333333333333\n"
     ]
    }
   ],
   "source": [
    "a = 4/10\n",
    "b = 3/9\n",
    "\n",
    "a_intersection_b = a * b\n",
    "\n",
    "print(a_intersection_b)"
   ]
  },
  {
   "cell_type": "code",
   "execution_count": null,
   "id": "0e7a3419",
   "metadata": {},
   "outputs": [],
   "source": [
    "# 10)\n",
    "#  A lot contains 12 items of which 4 are defective.\n",
    "# Two items are drawn at random from the lot one after other (without replacement ).\n",
    "# find the probability that both the items are defective .\n"
   ]
  },
  {
   "cell_type": "code",
   "execution_count": 9,
   "id": "96aaf39e",
   "metadata": {},
   "outputs": [
    {
     "name": "stdout",
     "output_type": "stream",
     "text": [
      "0.0909090909090909\n"
     ]
    }
   ],
   "source": [
    "a = 4/12\n",
    "b = 3/11\n",
    "\n",
    "a_intersection_b = a * b\n",
    "\n",
    "print(a_intersection_b)"
   ]
  }
 ],
 "metadata": {
  "kernelspec": {
   "display_name": "Python 3 (ipykernel)",
   "language": "python",
   "name": "python3"
  },
  "language_info": {
   "codemirror_mode": {
    "name": "ipython",
    "version": 3
   },
   "file_extension": ".py",
   "mimetype": "text/x-python",
   "name": "python",
   "nbconvert_exporter": "python",
   "pygments_lexer": "ipython3",
   "version": "3.9.12"
  }
 },
 "nbformat": 4,
 "nbformat_minor": 5
}
