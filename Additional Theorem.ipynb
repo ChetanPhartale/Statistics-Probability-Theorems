{
 "cells": [
  {
   "cell_type": "code",
   "execution_count": null,
   "id": "ae2d3e23",
   "metadata": {},
   "outputs": [],
   "source": [
    "# 1)\n",
    "# If A and B are mutually exclusive events p(A)=⅜ and p(B)=⅛ ,the find\n",
    "# i)p(A’)\n",
    "# ii)p(AUB) \n",
    " "
   ]
  },
  {
   "cell_type": "code",
   "execution_count": 19,
   "id": "4a418add",
   "metadata": {},
   "outputs": [
    {
     "name": "stdout",
     "output_type": "stream",
     "text": [
      "0.625\n",
      "0.5\n"
     ]
    }
   ],
   "source": [
    "a = 0.375\n",
    "b = 0.125\n",
    "\n",
    "a_inv = 1-a\n",
    "\n",
    "a_union_b = a + b\n",
    "\n",
    "print(a_inv)\n",
    "print(a_union_b)"
   ]
  },
  {
   "cell_type": "code",
   "execution_count": null,
   "id": "e26c2606",
   "metadata": {},
   "outputs": [],
   "source": [
    "# 2) \n",
    "# If the probability of solving a problem by 2 students George and James are 1/2 and 1/3 respectively then \n",
    "# what is the probability of the problem to be solved.\n"
   ]
  },
  {
   "cell_type": "code",
   "execution_count": 21,
   "id": "e3aa4a40",
   "metadata": {},
   "outputs": [
    {
     "name": "stdout",
     "output_type": "stream",
     "text": [
      "0.83\n"
     ]
    }
   ],
   "source": [
    "a = 0.50\n",
    "b = 0.33\n",
    "\n",
    "a_union_b = round(a + b,2) \n",
    "\n",
    "print(a_union_b)"
   ]
  },
  {
   "cell_type": "code",
   "execution_count": null,
   "id": "fad1661e",
   "metadata": {},
   "outputs": [],
   "source": [
    "# 3)\n",
    "# What is the probability of drawing either a king or a queen in a single draw from a well shuffled pack of 52 cards?"
   ]
  },
  {
   "cell_type": "code",
   "execution_count": 22,
   "id": "a6953656",
   "metadata": {},
   "outputs": [
    {
     "name": "stdout",
     "output_type": "stream",
     "text": [
      "0.15384615384615385\n"
     ]
    }
   ],
   "source": [
    "a = 4/52\n",
    "b = 4/52\n",
    "\n",
    "a_union_b = a + b\n",
    "\n",
    "print(a_union_b)"
   ]
  },
  {
   "cell_type": "code",
   "execution_count": null,
   "id": "4d573929",
   "metadata": {},
   "outputs": [],
   "source": [
    "# 4) \n",
    "# A and B are two candidates seeking admission to IIT. \n",
    "# The probability that A getting selected is 0.5, \n",
    "# the probability of B getting selected is 0.7 and \n",
    "# the probability that both A and B getting selected is 0.3. \n",
    "# What is the probability that it could be either candidate A or B.\n"
   ]
  },
  {
   "cell_type": "code",
   "execution_count": 7,
   "id": "3c7d3942",
   "metadata": {},
   "outputs": [
    {
     "name": "stdout",
     "output_type": "stream",
     "text": [
      "0.9\n"
     ]
    }
   ],
   "source": [
    "a = 0.5\n",
    "b = 0.7\n",
    "a_intersection_b = 0.3\n",
    "\n",
    "a_union_b = round(a + b - a_intersection_b,1)\n",
    "\n",
    "print(a_union_b)"
   ]
  },
  {
   "cell_type": "code",
   "execution_count": null,
   "id": "d412d09b",
   "metadata": {},
   "outputs": [],
   "source": [
    "# 5) \n",
    "# A bag contains 30 balls numbered from 1 to 30. \n",
    "# One ball is drawn at random, find the probability that the number of the ball will be multiple of 5 or 9.\n"
   ]
  },
  {
   "cell_type": "code",
   "execution_count": 10,
   "id": "7cc91f32",
   "metadata": {},
   "outputs": [
    {
     "name": "stdout",
     "output_type": "stream",
     "text": [
      "0.02\n"
     ]
    }
   ],
   "source": [
    "a = 6/30\n",
    "b = 3/30\n",
    "\n",
    "a_union_b = round(a+b,2)\n",
    "\n",
    "print(a_union_b)"
   ]
  },
  {
   "cell_type": "code",
   "execution_count": null,
   "id": "a45b0bea",
   "metadata": {},
   "outputs": [],
   "source": [
    "# 6) \n",
    "# A die is thrown twice. Let A be the event, ‘First die shows 5’ and B be the event, ‘second die shows 5’. \n",
    "# Find P(A∪B)"
   ]
  },
  {
   "cell_type": "code",
   "execution_count": 23,
   "id": "a49bb6fd",
   "metadata": {},
   "outputs": [
    {
     "name": "stdout",
     "output_type": "stream",
     "text": [
      "0.3333333333333333\n"
     ]
    }
   ],
   "source": [
    "a = 1/6\n",
    "b = 1/6\n",
    "\n",
    "a_union_b = a+b\n",
    "\n",
    "print(a_union_b)"
   ]
  },
  {
   "cell_type": "code",
   "execution_count": null,
   "id": "e864ab73",
   "metadata": {},
   "outputs": [],
   "source": [
    "# 7)\n",
    "# Two dice are tossed once. Find the probability of getting an even number on first dice or a total of 8."
   ]
  },
  {
   "cell_type": "code",
   "execution_count": 24,
   "id": "1c615f75",
   "metadata": {},
   "outputs": [
    {
     "name": "stdout",
     "output_type": "stream",
     "text": [
      "0.19444444444444442\n"
     ]
    }
   ],
   "source": [
    "a = 3/36\n",
    "b = 5/36\n",
    "a_intersection_b = 1/36\n",
    "\n",
    "a_union_b = a + b - a_intersection_b\n",
    "\n",
    "print(a_union_b)"
   ]
  },
  {
   "cell_type": "code",
   "execution_count": null,
   "id": "44a53131",
   "metadata": {},
   "outputs": [],
   "source": [
    "# 8)\n",
    "# A person can hit a target in 3 out 4 shots, \n",
    "# whereas another person can hit the target in 2 out of 3 shots. \n",
    "# Find the probability of the targets being hit at all when they both try.\n"
   ]
  },
  {
   "cell_type": "code",
   "execution_count": 25,
   "id": "f391e645",
   "metadata": {},
   "outputs": [
    {
     "name": "stdout",
     "output_type": "stream",
     "text": [
      "1.4166666666666665\n"
     ]
    }
   ],
   "source": [
    "a = 3/4\n",
    "b = 2/3\n",
    "\n",
    "a_union_b = a + b\n",
    "\n",
    "print(a_union_b)"
   ]
  },
  {
   "cell_type": "code",
   "execution_count": null,
   "id": "b873573b",
   "metadata": {},
   "outputs": [],
   "source": [
    "# 9)\n",
    "# If A and B are two events associated with a random experiment for which P(A) = 0.35, P(A or B) = 0.85, and P(A and B) = 0.15. \n",
    "# Find \n",
    "# (i) P(only B)\n",
    "# (ii) P(B') \n",
    "# (iii) P(only A)\n"
   ]
  },
  {
   "cell_type": "code",
   "execution_count": 16,
   "id": "8aaf255d",
   "metadata": {},
   "outputs": [
    {
     "name": "stdout",
     "output_type": "stream",
     "text": [
      "0.65\n",
      "0.35\n"
     ]
    }
   ],
   "source": [
    "a = 0.35\n",
    "\n",
    "a_union_b = 0.85\n",
    "a_intersection_b = 0.15\n",
    "\n",
    "# i)\n",
    "b = a_union_b + a_intersection_b - a\n",
    "\n",
    "# ii)\n",
    "b_inv = 1 - b\n",
    "\n",
    "print(b)\n",
    "print(b_inv)"
   ]
  },
  {
   "cell_type": "code",
   "execution_count": null,
   "id": "d80171f0",
   "metadata": {},
   "outputs": [],
   "source": [
    "# 10)\n",
    "# Consider an experiment of rolling a fair die .Let A be the event that an even number appears . \n",
    "# B = a number bigger than 3 occurs . \n",
    "# Find the probability that the number appearing on the uppermost face is either even or bigger than 3"
   ]
  },
  {
   "cell_type": "code",
   "execution_count": 26,
   "id": "66505aed",
   "metadata": {},
   "outputs": [
    {
     "name": "stdout",
     "output_type": "stream",
     "text": [
      "0.6666666666666667\n"
     ]
    }
   ],
   "source": [
    "a = 3/6\n",
    "b = 3/6\n",
    "a_intersection_b = 2/6\n",
    "\n",
    "a_union_b = a + b - a_intersection_b\n",
    "\n",
    "print(a_union_b)"
   ]
  },
  {
   "cell_type": "code",
   "execution_count": null,
   "id": "130cbc21",
   "metadata": {},
   "outputs": [],
   "source": [
    "# 11)\n",
    "# A number is selected from the first 20 natural numbers. Find the probability that it would be divisible by 3 or 7?\n",
    "# a) 19/46\n",
    "# b) 24/67\n",
    "# c) 12/37\n",
    "# d) 7/20"
   ]
  },
  {
   "cell_type": "code",
   "execution_count": 28,
   "id": "16a6fe57",
   "metadata": {},
   "outputs": [
    {
     "name": "stdout",
     "output_type": "stream",
     "text": [
      "0.4\n"
     ]
    }
   ],
   "source": [
    "a = 6/20\n",
    "b = 2/20\n",
    "\n",
    "a_union_b = a + b\n",
    "\n",
    "print(a_union_b)"
   ]
  }
 ],
 "metadata": {
  "kernelspec": {
   "display_name": "Python 3 (ipykernel)",
   "language": "python",
   "name": "python3"
  },
  "language_info": {
   "codemirror_mode": {
    "name": "ipython",
    "version": 3
   },
   "file_extension": ".py",
   "mimetype": "text/x-python",
   "name": "python",
   "nbconvert_exporter": "python",
   "pygments_lexer": "ipython3",
   "version": "3.9.12"
  }
 },
 "nbformat": 4,
 "nbformat_minor": 5
}
